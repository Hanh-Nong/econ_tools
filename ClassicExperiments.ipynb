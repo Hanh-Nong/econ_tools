{
 "cells": [
  {
   "cell_type": "markdown",
   "metadata": {},
   "source": [
    "**Hanh Nong**\n",
    "# <center>Analysis on Classic Experiments</center>"
   ]
  },
  {
   "cell_type": "code",
   "execution_count": 1,
   "metadata": {},
   "outputs": [],
   "source": [
    "#setup\n",
    "import pandas as pd\n",
    "import numpy as np\n",
    "import matplotlib.pyplot as plt\n",
    "import statsmodels.formula.api as sfa\n",
    "from statsmodels.iolib.summary2 import summary_col\n",
    "from scipy import stats"
   ]
  },
  {
   "cell_type": "markdown",
   "metadata": {},
   "source": [
    "## Problem: \n",
    "\n",
    "Suppose we are considering deploying a new feature to increase time spent on a video platform. We run a small and short experiment to test its impact, with an equal treatment and control group.\n",
    "\n",
    "The data following the experiment has four columns and 1200 rows. Each row corresponds to a separate user, for which there are four columns: time spent on platform (in seconds) during the experiment, an indicator for whether the user is in the treatment group (where 1 indicates treatment), the age of the user, and the number of channels (i.e. other accounts) to which the user previously subscribed."
   ]
  },
  {
   "cell_type": "code",
   "execution_count": 2,
   "metadata": {},
   "outputs": [
    {
     "data": {
      "text/html": [
       "<div>\n",
       "<style scoped>\n",
       "    .dataframe tbody tr th:only-of-type {\n",
       "        vertical-align: middle;\n",
       "    }\n",
       "\n",
       "    .dataframe tbody tr th {\n",
       "        vertical-align: top;\n",
       "    }\n",
       "\n",
       "    .dataframe thead th {\n",
       "        text-align: right;\n",
       "    }\n",
       "</style>\n",
       "<table border=\"1\" class=\"dataframe\">\n",
       "  <thead>\n",
       "    <tr style=\"text-align: right;\">\n",
       "      <th></th>\n",
       "      <th>timespent</th>\n",
       "      <th>treatment</th>\n",
       "      <th>age</th>\n",
       "      <th>channels</th>\n",
       "    </tr>\n",
       "  </thead>\n",
       "  <tbody>\n",
       "    <tr>\n",
       "      <th>0</th>\n",
       "      <td>228.565845</td>\n",
       "      <td>1</td>\n",
       "      <td>20</td>\n",
       "      <td>3</td>\n",
       "    </tr>\n",
       "    <tr>\n",
       "      <th>1</th>\n",
       "      <td>167.198848</td>\n",
       "      <td>1</td>\n",
       "      <td>27</td>\n",
       "      <td>0</td>\n",
       "    </tr>\n",
       "    <tr>\n",
       "      <th>2</th>\n",
       "      <td>142.921240</td>\n",
       "      <td>1</td>\n",
       "      <td>29</td>\n",
       "      <td>3</td>\n",
       "    </tr>\n",
       "    <tr>\n",
       "      <th>3</th>\n",
       "      <td>305.336382</td>\n",
       "      <td>1</td>\n",
       "      <td>13</td>\n",
       "      <td>6</td>\n",
       "    </tr>\n",
       "    <tr>\n",
       "      <th>4</th>\n",
       "      <td>170.465854</td>\n",
       "      <td>1</td>\n",
       "      <td>25</td>\n",
       "      <td>5</td>\n",
       "    </tr>\n",
       "  </tbody>\n",
       "</table>\n",
       "</div>"
      ],
      "text/plain": [
       "    timespent  treatment  age  channels\n",
       "0  228.565845          1   20         3\n",
       "1  167.198848          1   27         0\n",
       "2  142.921240          1   29         3\n",
       "3  305.336382          1   13         6\n",
       "4  170.465854          1   25         5"
      ]
     },
     "execution_count": 2,
     "metadata": {},
     "output_type": "execute_result"
    }
   ],
   "source": [
    "#load data\n",
    "data = pd.read_csv(\"data_assignment1.csv\")\n",
    "data.head()"
   ]
  },
  {
   "cell_type": "markdown",
   "metadata": {},
   "source": [
    "### Assessment of the experiment including both its estimated impact and the significance of that estimate, using both analytic techniques and the bootstrap."
   ]
  },
  {
   "cell_type": "markdown",
   "metadata": {},
   "source": [
    "Among different ages and number of channels, there is great fluctuation in effect. The control/treatment split is around 50% and this split is also consistent among each category of age and number of channels. In all age group, number of users who are 12 is much larger than all other age group. This probably is due to this age group is the main user segment of the platform.\n",
    "\n",
    "Using t-test: \n",
    "- Null hypothesis: Mean of timespent of treatment group - Mean of timepspent of control group = 0\n",
    "- Alternative hypothesis: Mean of timespent of treatment group - Mean of timepspent of control group > 0\n",
    "- Significant level set at 5%\n",
    "\n",
    "T-test returns the T score of 1.38 and p-value of 0.167 which is much higher than 5%. The estimated impact of the experiment is not statistically significant."
   ]
  },
  {
   "cell_type": "markdown",
   "metadata": {},
   "source": [
    "Overall, the estimated impact is an increase in time spent of 4.24 seconds when using the new color pallettes (see variable *te* in code below). This sounds like there is an effect of treatment."
   ]
  },
  {
   "cell_type": "code",
   "execution_count": 58,
   "metadata": {},
   "outputs": [
    {
     "name": "stdout",
     "output_type": "stream",
     "text": [
      "Overall effect of the experiment: 4.24\n"
     ]
    }
   ],
   "source": [
    "#Calculate treatment effect:\n",
    "te = data.query('treatment == 1')['timespent'].mean() - data.query('treatment == 0')['timespent'].mean()\n",
    "print(\"Overall effect of the experiment:\",round(te,2))"
   ]
  },
  {
   "cell_type": "markdown",
   "metadata": {},
   "source": [
    "***T-test***\n",
    "\n",
    "T-test is run in order to assess the significance of the result above. This t-test test whether there is significance difference between the means of two samples. With the significant set at 5%, the high value of p-value (0.1667) indicates this result is not statistically significant."
   ]
  },
  {
   "cell_type": "code",
   "execution_count": 95,
   "metadata": {},
   "outputs": [
    {
     "name": "stdout",
     "output_type": "stream",
     "text": [
      "t score: 1.383\n",
      "p-value: 0.167\n"
     ]
    }
   ],
   "source": [
    "t, p = stats.ttest_ind(data.query('treatment ==1')['timespent'],data.query('treatment ==0')['timespent'])\n",
    "print(\"t score:\", round(t,3))\n",
    "print(\"p-value:\", round(p,3))"
   ]
  },
  {
   "cell_type": "markdown",
   "metadata": {},
   "source": [
    "***Bootstrap***\n",
    "\n",
    "A simple bootstrap approach is used to assess the significance of the result. This approach assumes total randomness in the number of a particular age and channel value in each control and treatment group. This bootstrap preserve the exact number of units in each control and treatment groups.\n",
    "\n",
    "In the original experiment, there are 600 control units and 600 treatment units. This could be understood in two ways:\n",
    "- there are exactly 600 control units and 600 treatment units; or\n",
    "- units are assigned into each group with the chance of 50% and there is no difference in total number of units in each group due to randomness.\n",
    "\n",
    "For a population of 1,200 units, it is hard to ensure that there would be no random difference in number of units in each group. An intentional 600 control units and 600 treatment units is more believable. Moreover, by retaining this exact allocation, it would align with the t-test above for comparison purpose. Hence, this bootstrap goes with this exact allocation of control and treatment.\n",
    "\n",
    "The following code is to run bootstrap:"
   ]
  },
  {
   "cell_type": "code",
   "execution_count": 46,
   "metadata": {},
   "outputs": [],
   "source": [
    "mean_diff1 = []\n",
    "reg_bstr_1 = []\n",
    "regSimp_bstr_1 = []\n",
    "regCmplx_bstr_1= []\n",
    "n1_control = int(data.query('treatment == 0').shape[0])\n",
    "n1_treatment = int(data.query('treatment == 1').shape[0])\n",
    "\n",
    "for i in range(1000):\n",
    "    \n",
    "#BOOTSTRAP APPROACH 1: Number of units in each treatment and control groups is preserved.   \n",
    "    index_control = np.random.choice(np.where(data['treatment']==1)[0], replace = True, size = n1_control)\n",
    "    index_treatment = np.random.choice(np.where(data['treatment']==0)[0], replace = True, size = n1_treatment)\n",
    "    sample1 = pd.concat([data.iloc[index_control], data.iloc[index_treatment]], ignore_index=True, sort=False)\n",
    "    \n",
    "    sample1['agesq'] = sample1['age']**2\n",
    "    sample1['chansq'] = sample1['channels']**2\n",
    "    sample1['dxchan'] = sample1['treatment']*sample1['channels']\n",
    "    \n",
    "    #non-regression bootstrap\n",
    "    mean_diff1.append(sample1.query('treatment == 1')['timespent'].mean() -\n",
    "                     sample1.query('treatment == 0')['timespent'].mean())\n",
    "    \n",
    "    #regression without covariate bootstrap   \n",
    "    reg_bstr_1.append(sfa.ols(\"timespent ~ treatment\", data=sample1)\n",
    "                          .fit(cov_type='HC1')\n",
    "                          .params[1])    \n",
    "    \n",
    "    #regression with simple covariates    \n",
    "    regSimp_bstr_1.append(sfa.ols(\"timespent ~ treatment + age + channels\", data=sample1)\n",
    "                          .fit(cov_type='HC1')\n",
    "                          .params[1]) \n",
    "    \n",
    "    #regression with complex covariates\n",
    "    regCmplx_bstr_1.append(sfa.ols(\"timespent ~ treatment + age + channels + agesq + chansq + dxchan\", \n",
    "                                   data=sample1)\n",
    "                           .fit(cov_type='HC1')\n",
    "                           .params[1])"
   ]
  },
  {
   "cell_type": "markdown",
   "metadata": {},
   "source": [
    "Result of bootstrap show an effect of 4.3 which aligns with the experiment. The standard error of 3 is very high for this value which indicates this effect is not significant. This conclusion is also consistent with t-test."
   ]
  },
  {
   "cell_type": "code",
   "execution_count": 47,
   "metadata": {},
   "outputs": [
    {
     "name": "stdout",
     "output_type": "stream",
     "text": [
      "Mean of effect: 4.3\n",
      "std of mean difference: 3.062\n"
     ]
    }
   ],
   "source": [
    "print(\"Mean of effect:\",round(np.mean(mean_diff1),3))\n",
    "print(\"std of mean difference:\",round(np.std(mean_diff1), 3))"
   ]
  },
  {
   "cell_type": "markdown",
   "metadata": {},
   "source": [
    "### Assess experiment using regression techniques but without using the additional covariates"
   ]
  },
  {
   "cell_type": "markdown",
   "metadata": {},
   "source": [
    "***Regression: simple model***"
   ]
  },
  {
   "cell_type": "code",
   "execution_count": 49,
   "metadata": {},
   "outputs": [
    {
     "name": "stdout",
     "output_type": "stream",
     "text": [
      "                            OLS Regression Results                            \n",
      "==============================================================================\n",
      "Dep. Variable:              timespent   R-squared:                       0.002\n",
      "Model:                            OLS   Adj. R-squared:                  0.001\n",
      "Method:                 Least Squares   F-statistic:                     1.914\n",
      "Date:                Mon, 31 Aug 2020   Prob (F-statistic):              0.167\n",
      "Time:                        17:58:01   Log-Likelihood:                -6469.1\n",
      "No. Observations:                1200   AIC:                         1.294e+04\n",
      "Df Residuals:                    1198   BIC:                         1.295e+04\n",
      "Df Model:                           1                                         \n",
      "Covariance Type:                  HC1                                         \n",
      "==============================================================================\n",
      "                 coef    std err          z      P>|z|      [0.025      0.975]\n",
      "------------------------------------------------------------------------------\n",
      "Intercept    225.6296      2.126    106.118      0.000     221.462     229.797\n",
      "treatment      4.2438      3.068      1.383      0.167      -1.769      10.256\n",
      "==============================================================================\n",
      "Omnibus:                      358.879   Durbin-Watson:                   1.981\n",
      "Prob(Omnibus):                  0.000   Jarque-Bera (JB):               56.565\n",
      "Skew:                          -0.044   Prob(JB):                     5.21e-13\n",
      "Kurtosis:                       1.940   Cond. No.                         2.62\n",
      "==============================================================================\n",
      "\n",
      "Warnings:\n",
      "[1] Standard Errors are heteroscedasticity robust (HC1)\n"
     ]
    }
   ],
   "source": [
    "reg = sfa.ols(\"timespent ~ treatment\", data=data).fit(cov_type='HC1')\n",
    "print(reg.summary())"
   ]
  },
  {
   "cell_type": "markdown",
   "metadata": {},
   "source": [
    "The results in regression is quite similiar with what calculated in question 1: effect of 4.24 with standard error of 3 and p-value of 0.167. The $R^2$ is less than 1%. These results indicate the effect is not significant. This model is too simple to exlain the effect."
   ]
  },
  {
   "cell_type": "code",
   "execution_count": 50,
   "metadata": {},
   "outputs": [
    {
     "name": "stdout",
     "output_type": "stream",
     "text": [
      "Coefficient of treatment: 4.24\n",
      "Standard error of coefficient: 3.07\n"
     ]
    }
   ],
   "source": [
    "print(\"Coefficient of treatment:\",round(reg.params[1],2))\n",
    "print(\"Standard error of coefficient:\",round(reg.bse[1],2))"
   ]
  },
  {
   "cell_type": "markdown",
   "metadata": {},
   "source": [
    "***Bootstrap***\n",
    "\n",
    "The same approach of bootstrap is used as before. Regression with the same formula for the simple model is run on bootstrap sample for each iteration. With this approach, there should be no difference in the results compared to above: Mean of effect is 4.3 and standard error of 3. With the standard error of 70% of the effect itself, this effect can't be significant"
   ]
  },
  {
   "cell_type": "code",
   "execution_count": 51,
   "metadata": {},
   "outputs": [
    {
     "name": "stdout",
     "output_type": "stream",
     "text": [
      "Mean of effect, simple model, bootstrap approach 1: 4.3\n",
      "std of simple model's coefficient, bootstrap approach 1: 3.062\n"
     ]
    }
   ],
   "source": [
    "print(\"Mean of effect, simple model, bootstrap approach 1:\",round(np.mean(reg_bstr_1),3))\n",
    "print(\"std of simple model's coefficient, bootstrap approach 1:\",round(np.std(reg_bstr_1), 3))"
   ]
  },
  {
   "cell_type": "markdown",
   "metadata": {},
   "source": [
    "### Assess experiment using regression with additional covariates\n",
    "\n",
    "Additional variables added are age and channels"
   ]
  },
  {
   "cell_type": "code",
   "execution_count": 35,
   "metadata": {},
   "outputs": [
    {
     "name": "stdout",
     "output_type": "stream",
     "text": [
      "                            OLS Regression Results                            \n",
      "==============================================================================\n",
      "Dep. Variable:              timespent   R-squared:                       0.942\n",
      "Model:                            OLS   Adj. R-squared:                  0.942\n",
      "Method:                 Least Squares   F-statistic:                     6156.\n",
      "Date:                Mon, 31 Aug 2020   Prob (F-statistic):               0.00\n",
      "Time:                        15:27:01   Log-Likelihood:                -4760.5\n",
      "No. Observations:                1200   AIC:                             9529.\n",
      "Df Residuals:                    1196   BIC:                             9549.\n",
      "Df Model:                           3                                         \n",
      "Covariance Type:                  HC1                                         \n",
      "==============================================================================\n",
      "                 coef    std err          z      P>|z|      [0.025      0.975]\n",
      "------------------------------------------------------------------------------\n",
      "Intercept    412.4169      1.649    250.092      0.000     409.185     415.649\n",
      "treatment      3.0486      0.739      4.123      0.000       1.599       4.498\n",
      "age           -9.2744      0.069   -135.061      0.000      -9.409      -9.140\n",
      "channels       0.9735      0.114      8.566      0.000       0.751       1.196\n",
      "==============================================================================\n",
      "Omnibus:                        2.097   Durbin-Watson:                   2.053\n",
      "Prob(Omnibus):                  0.350   Jarque-Bera (JB):                2.143\n",
      "Skew:                           0.080   Prob(JB):                        0.343\n",
      "Kurtosis:                       2.869   Cond. No.                         93.4\n",
      "==============================================================================\n",
      "\n",
      "Warnings:\n",
      "[1] Standard Errors are heteroscedasticity robust (HC1)\n"
     ]
    }
   ],
   "source": [
    "regSimp = sfa.ols(\"timespent ~ treatment + age + channels\", data=data).fit(cov_type='HC1')\n",
    "print(regSimp.summary())"
   ]
  },
  {
   "cell_type": "markdown",
   "metadata": {},
   "source": [
    "The effect of treatment has decreased to 3. P-value is very low and the standard error has decreased. $R^2$ increased 0.94. Including age and channels to the regression has significant impact to the model. Older ages lead to adverse impact to the effect. Channels also has a role in the time spent on the app. In this model, the effect of 3 is a significant result. This model does a better job in explaining the effect compared to the model in question 2. The result of 4.24 calculated in question 1 includes bias which was not shown in the initial regression."
   ]
  },
  {
   "cell_type": "markdown",
   "metadata": {},
   "source": [
    "### Assess experiment with more complex model\n",
    "\n",
    "Some non-linear transformations of covariates (square of channels, square of age, and the interaction between channels and treatment) are added to the model"
   ]
  },
  {
   "cell_type": "markdown",
   "metadata": {},
   "source": [
    "***Regression: Complex model***"
   ]
  },
  {
   "cell_type": "code",
   "execution_count": 38,
   "metadata": {},
   "outputs": [],
   "source": [
    "data['agesq'] = data['age']**2\n",
    "data['chansq'] = data['channels']**2\n",
    "data['dxchan'] = data['treatment']*data['channels']"
   ]
  },
  {
   "cell_type": "code",
   "execution_count": 60,
   "metadata": {},
   "outputs": [
    {
     "name": "stdout",
     "output_type": "stream",
     "text": [
      "                            OLS Regression Results                            \n",
      "==============================================================================\n",
      "Dep. Variable:              timespent   R-squared:                       0.943\n",
      "Model:                            OLS   Adj. R-squared:                  0.943\n",
      "Method:                 Least Squares   F-statistic:                     3157.\n",
      "Date:                Mon, 31 Aug 2020   Prob (F-statistic):               0.00\n",
      "Time:                        18:12:54   Log-Likelihood:                -4750.1\n",
      "No. Observations:                1200   AIC:                             9514.\n",
      "Df Residuals:                    1193   BIC:                             9550.\n",
      "Df Model:                           6                                         \n",
      "Covariance Type:                  HC1                                         \n",
      "==============================================================================\n",
      "                 coef    std err          z      P>|z|      [0.025      0.975]\n",
      "------------------------------------------------------------------------------\n",
      "Intercept    439.1900      6.313     69.574      0.000     426.818     451.562\n",
      "treatment      2.7396      1.364      2.008      0.045       0.065       5.414\n",
      "age          -11.9522      0.613    -19.488      0.000     -13.154     -10.750\n",
      "channels       0.6384      0.445      1.434      0.152      -0.234       1.511\n",
      "agesq          0.0638      0.014      4.430      0.000       0.036       0.092\n",
      "chansq         0.0297      0.042      0.713      0.476      -0.052       0.111\n",
      "dxchan         0.0450      0.225      0.200      0.842      -0.396       0.486\n",
      "==============================================================================\n",
      "Omnibus:                        1.277   Durbin-Watson:                   2.059\n",
      "Prob(Omnibus):                  0.528   Jarque-Bera (JB):                1.332\n",
      "Skew:                           0.050   Prob(JB):                        0.514\n",
      "Kurtosis:                       2.871   Cond. No.                     8.57e+03\n",
      "==============================================================================\n",
      "\n",
      "Warnings:\n",
      "[1] Standard Errors are heteroscedasticity robust (HC1)\n",
      "[2] The condition number is large, 8.57e+03. This might indicate that there are\n",
      "strong multicollinearity or other numerical problems.\n"
     ]
    }
   ],
   "source": [
    "regCmplx = sfa.ols(\"timespent ~ treatment + age + channels + agesq + chansq + dxchan\", data=data).fit(cov_type='HC1')\n",
    "print(regCmplx.summary())"
   ]
  },
  {
   "cell_type": "markdown",
   "metadata": {},
   "source": [
    "***Bootstrap***"
   ]
  },
  {
   "cell_type": "code",
   "execution_count": 61,
   "metadata": {},
   "outputs": [
    {
     "name": "stdout",
     "output_type": "stream",
     "text": [
      "Variance of simple model: 0.535\n",
      "Variance of complex model: 1.833\n"
     ]
    }
   ],
   "source": [
    "varSimp = np.var(regSimp_bstr_1)\n",
    "varCmplx = np.var(regCmplx_bstr_1)\n",
    "print(\"Variance of simple model:\",round(varSimp,3))\n",
    "print(\"Variance of complex model:\",round(varCmplx,3))"
   ]
  },
  {
   "cell_type": "markdown",
   "metadata": {},
   "source": [
    "From the results above, the complex model's variance is much higher than simple model. "
   ]
  },
  {
   "cell_type": "markdown",
   "metadata": {},
   "source": [
    "***Comparison of variances***\n",
    "\n",
    "In below graph, by shifting parameter of complex model toward the simple model's mean, it's clearer to see how the complex model has higher variance than simple model."
   ]
  },
  {
   "cell_type": "code",
   "execution_count": 56,
   "metadata": {},
   "outputs": [
    {
     "data": {
      "text/plain": [
       "<matplotlib.legend.Legend at 0x189dc045c50>"
      ]
     },
     "execution_count": 56,
     "metadata": {},
     "output_type": "execute_result"
    },
    {
     "data": {
      "image/png": "[encoded data removed]",
      "text/plain": [
       "<Figure size 432x288 with 1 Axes>"
      ]
     },
     "metadata": {
      "needs_background": "light"
     },
     "output_type": "display_data"
    }
   ],
   "source": [
    "regCmplx_adj = regCmplx_bstr_1 + (np.mean(regSimp_bstr_1) - np.mean(regCmplx_bstr_1))\n",
    "plot5 = pd.DataFrame({'Simple model': regSimp_bstr_1,'Complex model': regCmplx_adj})\n",
    "plot5.plot.kde(color = ['black', 'orange'])\n",
    "plt.title(\"Distribution of parameter\")\n",
    "plt.axvline(x=np.mean(regSimp_bstr_1),color='black', ls = \":\", label = \"Mean\")\n",
    "plt.axis('off')\n",
    "plt.legend()"
   ]
  },
  {
   "cell_type": "markdown",
   "metadata": {},
   "source": [
    "### Potential improvements to the simple model"
   ]
  },
  {
   "cell_type": "markdown",
   "metadata": {},
   "source": [
    "- Summarize data by age and treatment (*data_by_age*); and by channel and treatment (*data_by_chan*). The summarized tables include count of units and difference in time spent for that specific group:"
   ]
  },
  {
   "cell_type": "code",
   "execution_count": 40,
   "metadata": {
    "scrolled": false
   },
   "outputs": [],
   "source": [
    "#Group data by age\n",
    "data_by_age = data.groupby(['age','treatment'], as_index=False)[['timespent']].mean()\n",
    "data_by_age = (data_by_age.join(data.groupby(['age','treatment'], as_index=False).size()\n",
    "                                .reset_index(name = 'agecounts')['agecounts']))\n",
    "data_by_age = data_by_age.pivot(index='age', columns='treatment', values=['timespent','agecounts']).reset_index()\n",
    "data_by_age.columns = ['age','Y0','Y1','control','treatment']\n",
    "data_by_age['effect'] = data_by_age['Y1']-data_by_age['Y0']"
   ]
  },
  {
   "cell_type": "code",
   "execution_count": 27,
   "metadata": {
    "scrolled": false
   },
   "outputs": [
    {
     "data": {
      "text/html": [
       "<div>\n",
       "<style scoped>\n",
       "    .dataframe tbody tr th:only-of-type {\n",
       "        vertical-align: middle;\n",
       "    }\n",
       "\n",
       "    .dataframe tbody tr th {\n",
       "        vertical-align: top;\n",
       "    }\n",
       "\n",
       "    .dataframe thead th {\n",
       "        text-align: right;\n",
       "    }\n",
       "</style>\n",
       "<table border=\"1\" class=\"dataframe\">\n",
       "  <thead>\n",
       "    <tr style=\"text-align: right;\">\n",
       "      <th></th>\n",
       "      <th>age</th>\n",
       "      <th>Y0</th>\n",
       "      <th>Y1</th>\n",
       "      <th>control</th>\n",
       "      <th>treatment</th>\n",
       "      <th>effect</th>\n",
       "    </tr>\n",
       "  </thead>\n",
       "  <tbody>\n",
       "    <tr>\n",
       "      <th>0</th>\n",
       "      <td>13</td>\n",
       "      <td>300.306872</td>\n",
       "      <td>306.435705</td>\n",
       "      <td>84.0</td>\n",
       "      <td>94.0</td>\n",
       "      <td>6.128833</td>\n",
       "    </tr>\n",
       "    <tr>\n",
       "      <th>1</th>\n",
       "      <td>14</td>\n",
       "      <td>283.654762</td>\n",
       "      <td>287.422619</td>\n",
       "      <td>32.0</td>\n",
       "      <td>32.0</td>\n",
       "      <td>3.767857</td>\n",
       "    </tr>\n",
       "    <tr>\n",
       "      <th>2</th>\n",
       "      <td>15</td>\n",
       "      <td>273.483640</td>\n",
       "      <td>276.950937</td>\n",
       "      <td>24.0</td>\n",
       "      <td>29.0</td>\n",
       "      <td>3.467297</td>\n",
       "    </tr>\n",
       "    <tr>\n",
       "      <th>3</th>\n",
       "      <td>16</td>\n",
       "      <td>268.112969</td>\n",
       "      <td>266.866166</td>\n",
       "      <td>30.0</td>\n",
       "      <td>30.0</td>\n",
       "      <td>-1.246803</td>\n",
       "    </tr>\n",
       "    <tr>\n",
       "      <th>4</th>\n",
       "      <td>17</td>\n",
       "      <td>258.715214</td>\n",
       "      <td>258.976891</td>\n",
       "      <td>34.0</td>\n",
       "      <td>34.0</td>\n",
       "      <td>0.261677</td>\n",
       "    </tr>\n",
       "    <tr>\n",
       "      <th>5</th>\n",
       "      <td>18</td>\n",
       "      <td>246.986568</td>\n",
       "      <td>251.238254</td>\n",
       "      <td>37.0</td>\n",
       "      <td>32.0</td>\n",
       "      <td>4.251686</td>\n",
       "    </tr>\n",
       "    <tr>\n",
       "      <th>6</th>\n",
       "      <td>19</td>\n",
       "      <td>238.225193</td>\n",
       "      <td>241.015767</td>\n",
       "      <td>31.0</td>\n",
       "      <td>37.0</td>\n",
       "      <td>2.790573</td>\n",
       "    </tr>\n",
       "    <tr>\n",
       "      <th>7</th>\n",
       "      <td>20</td>\n",
       "      <td>230.803126</td>\n",
       "      <td>233.612719</td>\n",
       "      <td>41.0</td>\n",
       "      <td>26.0</td>\n",
       "      <td>2.809593</td>\n",
       "    </tr>\n",
       "    <tr>\n",
       "      <th>8</th>\n",
       "      <td>21</td>\n",
       "      <td>220.568623</td>\n",
       "      <td>222.673286</td>\n",
       "      <td>27.0</td>\n",
       "      <td>32.0</td>\n",
       "      <td>2.104664</td>\n",
       "    </tr>\n",
       "    <tr>\n",
       "      <th>9</th>\n",
       "      <td>22</td>\n",
       "      <td>215.811048</td>\n",
       "      <td>214.603499</td>\n",
       "      <td>24.0</td>\n",
       "      <td>20.0</td>\n",
       "      <td>-1.207548</td>\n",
       "    </tr>\n",
       "    <tr>\n",
       "      <th>10</th>\n",
       "      <td>23</td>\n",
       "      <td>201.173110</td>\n",
       "      <td>209.228048</td>\n",
       "      <td>26.0</td>\n",
       "      <td>26.0</td>\n",
       "      <td>8.054938</td>\n",
       "    </tr>\n",
       "    <tr>\n",
       "      <th>11</th>\n",
       "      <td>24</td>\n",
       "      <td>197.334104</td>\n",
       "      <td>194.276248</td>\n",
       "      <td>32.0</td>\n",
       "      <td>24.0</td>\n",
       "      <td>-3.057856</td>\n",
       "    </tr>\n",
       "    <tr>\n",
       "      <th>12</th>\n",
       "      <td>25</td>\n",
       "      <td>183.107645</td>\n",
       "      <td>189.924786</td>\n",
       "      <td>31.0</td>\n",
       "      <td>31.0</td>\n",
       "      <td>6.817141</td>\n",
       "    </tr>\n",
       "    <tr>\n",
       "      <th>13</th>\n",
       "      <td>26</td>\n",
       "      <td>174.604331</td>\n",
       "      <td>180.342163</td>\n",
       "      <td>30.0</td>\n",
       "      <td>32.0</td>\n",
       "      <td>5.737832</td>\n",
       "    </tr>\n",
       "    <tr>\n",
       "      <th>14</th>\n",
       "      <td>27</td>\n",
       "      <td>169.061046</td>\n",
       "      <td>172.267127</td>\n",
       "      <td>28.0</td>\n",
       "      <td>28.0</td>\n",
       "      <td>3.206081</td>\n",
       "    </tr>\n",
       "    <tr>\n",
       "      <th>15</th>\n",
       "      <td>28</td>\n",
       "      <td>160.172207</td>\n",
       "      <td>158.749645</td>\n",
       "      <td>26.0</td>\n",
       "      <td>25.0</td>\n",
       "      <td>-1.422562</td>\n",
       "    </tr>\n",
       "    <tr>\n",
       "      <th>16</th>\n",
       "      <td>29</td>\n",
       "      <td>150.697733</td>\n",
       "      <td>150.283256</td>\n",
       "      <td>31.0</td>\n",
       "      <td>40.0</td>\n",
       "      <td>-0.414477</td>\n",
       "    </tr>\n",
       "    <tr>\n",
       "      <th>17</th>\n",
       "      <td>30</td>\n",
       "      <td>141.281750</td>\n",
       "      <td>145.189754</td>\n",
       "      <td>32.0</td>\n",
       "      <td>28.0</td>\n",
       "      <td>3.908004</td>\n",
       "    </tr>\n",
       "  </tbody>\n",
       "</table>\n",
       "</div>"
      ],
      "text/plain": [
       "    age          Y0          Y1  control  treatment    effect\n",
       "0    13  300.306872  306.435705     84.0       94.0  6.128833\n",
       "1    14  283.654762  287.422619     32.0       32.0  3.767857\n",
       "2    15  273.483640  276.950937     24.0       29.0  3.467297\n",
       "3    16  268.112969  266.866166     30.0       30.0 -1.246803\n",
       "4    17  258.715214  258.976891     34.0       34.0  0.261677\n",
       "5    18  246.986568  251.238254     37.0       32.0  4.251686\n",
       "6    19  238.225193  241.015767     31.0       37.0  2.790573\n",
       "7    20  230.803126  233.612719     41.0       26.0  2.809593\n",
       "8    21  220.568623  222.673286     27.0       32.0  2.104664\n",
       "9    22  215.811048  214.603499     24.0       20.0 -1.207548\n",
       "10   23  201.173110  209.228048     26.0       26.0  8.054938\n",
       "11   24  197.334104  194.276248     32.0       24.0 -3.057856\n",
       "12   25  183.107645  189.924786     31.0       31.0  6.817141\n",
       "13   26  174.604331  180.342163     30.0       32.0  5.737832\n",
       "14   27  169.061046  172.267127     28.0       28.0  3.206081\n",
       "15   28  160.172207  158.749645     26.0       25.0 -1.422562\n",
       "16   29  150.697733  150.283256     31.0       40.0 -0.414477\n",
       "17   30  141.281750  145.189754     32.0       28.0  3.908004"
      ]
     },
     "execution_count": 27,
     "metadata": {},
     "output_type": "execute_result"
    }
   ],
   "source": [
    "data_by_age"
   ]
  },
  {
   "cell_type": "markdown",
   "metadata": {},
   "source": [
    "- Visualize the trend of effect by age and by channel; and the proportion of each age and channel in treatment and control group:"
   ]
  },
  {
   "cell_type": "code",
   "execution_count": 59,
   "metadata": {
    "scrolled": false
   },
   "outputs": [
    {
     "data": {
      "image/png": "[encoded data removed]",
      "text/plain": [
       "<Figure size 1080x720 with 2 Axes>"
      ]
     },
     "metadata": {
      "needs_background": "light"
     },
     "output_type": "display_data"
    }
   ],
   "source": [
    "#Plot effect by age and by number of channels, distribution of age and number of channels in the sample\n",
    "f, ax = plt.subplots(2,1,figsize=(15,10))\n",
    "plt.subplots_adjust(hspace = 0.3)\n",
    "\n",
    "#Effect by age\n",
    "ax[0].scatter(data_by_age['age'],data_by_age['effect'])\n",
    "ax[0].set_title('Effect by age')\n",
    "ax[0].set(xlabel=\"Age\",ylabel=\"Seconds\")\n",
    "ax[0].axhline(y=te,color='r')\n",
    "ax[0].text(27,te+0.5,'Overall effect', color = 'r')\n",
    "ax[0].set_xticks(np.arange(12, 31, step=2))\n",
    "\n",
    "#Age counts\n",
    "ax[1].bar(data_by_age['age'],data_by_age['control'], label = \"Control group\")\n",
    "ax[1].bar(data_by_age['age'],data_by_age['treatment'], label = \"Treatment group\", \n",
    "             bottom=data_by_age['control'], color = 'lightblue')\n",
    "ax[1].set_title('Age counts')\n",
    "ax[1].set(xlabel=\"Age\",ylabel=\"Counts\")\n",
    "ax[1].legend()\n",
    "ax[1].set_xticks(np.arange(12, 31, step=2))\n",
    "\n",
    "plt.show()"
   ]
  },
  {
   "cell_type": "markdown",
   "metadata": {},
   "source": [
    "- Observation from the graph: \n",
    "    - Effect varies wildly between different age groups (See graph *Effect by age*). \n",
    "    - Except age 13, all other age groups are not very different in terms of total units in experiment. The proportion between treatment and control groups across all age groups is also quite consistent (See graph *Age counts*). \n",
    "    - The presence of age 13 in the population is much more noticeable than all other ages. Younger users might be more attracted a video platform. With or without the new feature, they already spent much more time on the app than other users. If this group has certain characteristics that are distinctly different from the rest, the effect of these characteristics will be projected on the overall effect.\n",
    "    - In general, there is relatively gradual change in effect between age groups. However, from age 22-25, there are unusual leaps among these ages. There should not be such a dramatic change between these ages since they are very closed to each other. There could be noise in this subset of data. Or units in these age groups might have special characteristics. \n",
    "    \n",
    "From the observation above, I would consider blocking age 13 and ages 23-25 from the rest."
   ]
  }
 ],
 "metadata": {
  "kernelspec": {
   "display_name": "Python 3",
   "language": "python",
   "name": "python3"
  },
  "language_info": {
   "codemirror_mode": {
    "name": "ipython",
    "version": 3
   },
   "file_extension": ".py",
   "mimetype": "text/x-python",
   "name": "python",
   "nbconvert_exporter": "python",
   "pygments_lexer": "ipython3",
   "version": "3.7.3"
  }
 },
 "nbformat": 4,
 "nbformat_minor": 2
}
